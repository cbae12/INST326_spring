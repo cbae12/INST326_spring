{
 "cells": [
  {
   "cell_type": "markdown",
   "id": "b349bf48-b6fd-40be-80c3-e488b72d2590",
   "metadata": {},
   "source": [
    "# Inheritance\n",
    "After having declared its **parent-child relationship** between two classes, **inheritance** allows **child class (subclass)** to inherit all features allowed in the **parent class**. Also, the child class can override features that were pulled from the parent class. Lastly, being the subclass, child class is the instance of the parent class."
   ]
  },
  {
   "cell_type": "code",
   "execution_count": 25,
   "id": "c482ce29-f373-411c-b708-13abf4c20303",
   "metadata": {},
   "outputs": [
    {
     "name": "stdout",
     "output_type": "stream",
     "text": [
      "Wyatt's Family: {'John', 'Sarah', 'Peter'}\n",
      "Jean's Family: {'Sydney', 'Carl', 'Jim'}\n"
     ]
    }
   ],
   "source": [
    "class family:\n",
    "    def __init__(self, mother, father, child):\n",
    "        self.mother = mother\n",
    "        self.father = father\n",
    "        self.child = child\n",
    "        self.names = {mother, father, child}\n",
    "        \n",
    "    def add_child(self, name):\n",
    "        self.names.append(name)\n",
    "        \n",
    "    def add_mother(self, name):\n",
    "        self.names.append(name)\n",
    "\n",
    "class adopted_family(family):\n",
    "    pass\n",
    "\n",
    "wyatts_family = family(\"Sarah\", \"Peter\", \"John\")\n",
    "print(f\"Wyatt's Family: {wyatts_family.names}\")\n",
    "jeans_family = adopted_family(\"Sydney\", \"Jim\", \"Carl\")\n",
    "print(f\"Jean's Family: {jeans_family.names}\")"
   ]
  },
  {
   "cell_type": "markdown",
   "id": "0253e74d-ca4f-424a-bbe5-14373987ec91",
   "metadata": {},
   "source": [
    "# Composition\n",
    "**Composition** allows you to add a class to a new class by setting an instance as a list of the original class."
   ]
  },
  {
   "cell_type": "code",
   "execution_count": 40,
   "id": "497f7128-40c7-4154-9691-4fa7ef63eeb8",
   "metadata": {},
   "outputs": [
    {
     "name": "stdout",
     "output_type": "stream",
     "text": [
      "[13 balls in blue, 3 balls in green]\n"
     ]
    }
   ],
   "source": [
    "class set_of_colored_balls:\n",
    "    def __init__(self, color, num):\n",
    "        self.color = color\n",
    "        self.num = num\n",
    "    \n",
    "    def __repr__(self):\n",
    "        return \"{} balls in {}\".format(self.num,self.color)\n",
    "    \n",
    "class ball_box:\n",
    "    def __init__(self):\n",
    "        self.set_of_colored_balls = []\n",
    "        \n",
    "    def add_balls(self, set_of_colored_balls):\n",
    "        self.set_of_colored_balls.append(set_of_colored_balls)\n",
    "\n",
    "box_A = ball_box()\n",
    "box_A.add_balls(set_of_colored_balls(\"blue\", 13))\n",
    "box_A.add_balls(set_of_colored_balls(\"green\", 3))\n",
    "print(box_A.set_of_colored_balls)"
   ]
  }
 ],
 "metadata": {
  "kernelspec": {
   "display_name": "Python 3 (ipykernel)",
   "language": "python",
   "name": "python3"
  },
  "language_info": {
   "codemirror_mode": {
    "name": "ipython",
    "version": 3
   },
   "file_extension": ".py",
   "mimetype": "text/x-python",
   "name": "python",
   "nbconvert_exporter": "python",
   "pygments_lexer": "ipython3",
   "version": "3.10.2"
  }
 },
 "nbformat": 4,
 "nbformat_minor": 5
}
