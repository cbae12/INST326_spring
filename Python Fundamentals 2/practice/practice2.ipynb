{
 "cells": [
  {
   "cell_type": "markdown",
   "id": "6ef7b18a-9674-45fe-9eb5-e75c49083a88",
   "metadata": {},
   "source": [
    "# f-strings\n",
    "f-strings is a way to define values and to plug in those values into a string in curly braces **{}** to return a string by placing **f** in front of the string that is marked by apostrophes."
   ]
  },
  {
   "cell_type": "code",
   "execution_count": 2,
   "id": "9da31773-00a4-4bed-8d40-0467214d71d0",
   "metadata": {},
   "outputs": [
    {
     "data": {
      "text/plain": [
       "\"Even though Sammy ate out of Michael's food, Michael did not want to chase her.\""
      ]
     },
     "execution_count": 2,
     "metadata": {},
     "output_type": "execute_result"
    }
   ],
   "source": [
    "dog = \"Michael\"\n",
    "cat = \"Sammy\"\n",
    "f\"Even though {cat} ate out of {dog}'s food, {dog} did not want to chase her.\""
   ]
  },
  {
   "cell_type": "markdown",
   "id": "98a01e7d-749f-463b-b1d3-e88081c9d026",
   "metadata": {
    "tags": []
   },
   "source": [
    "# Lists\n",
    "Similar to strings, Lists are a container data type with **objects** and in **ordered seuqneces** with a fixed order. Also, we can retrieve the item number located in **[]** and **Slice** notation can be used to retrieve sub-sequence of lists. However, compared to strings, lists are **mutable**.\n",
    "\n",
    "pop() method pulls out the last object in the list when index is not specified, rather than from the front of the list and object that is popped out can be referenced to a variable that can have a popped value.<br>\n",
    "Ex. \n",
    "\n",
    "    new_list = [\"one\", \"two\", \"three\"]\n",
    "    brand_new_list = new_list.pop()\n",
    "    print(new_list)\n",
    "    print(brand_new_list)<br>\n",
    "Printed Object: `['one', 'two']`\n",
    "                `three`\n",
    "<br><br>\n",
    "Aliasing occurs when multiple references connect to a single object value, which can be prevented by copying the data, rather than passing the data.<br>\n",
    "Ex. \n",
    "    \n",
    "    new_var = [\"bird\", \"lion\"]\n",
    "    old_var = new_var\n",
    "    old_var.append(\"rock\")\n",
    "    print(old_var)\n",
    "    print(new_var)\n",
    "Printed Object:   `['bird', 'lion', 'rock']`\n",
    "<br>&emsp;&emsp;&emsp;&ensp;\n",
    "&emsp;&emsp;&emsp;`['bird', 'lion', 'rock']`\n",
    "    \n",
    "    new_var = [\"bird\", \"lion\"]\n",
    "    old_var = new_var.copy()\n",
    "    old_var.append(\"rock\")\n",
    "    print(old_var)\n",
    "    print(new_var)\n",
    "Printed Object:   `['bird', 'lion', 'rock']`\n",
    "<br>&emsp;&emsp;&emsp;&ensp;\n",
    "&emsp;&emsp;&emsp;`['bird', 'lion']`"
   ]
  },
  {
   "cell_type": "code",
   "execution_count": 7,
   "id": "1d31b03f-63a8-4ef5-bef3-8fccec90686c",
   "metadata": {},
   "outputs": [
    {
     "name": "stdout",
     "output_type": "stream",
     "text": [
      "(1 * 2) + 3 = 5\n"
     ]
    }
   ],
   "source": [
    "new_list = [1, 2, 3]\n",
    "print(f'({new_list[0]} * {new_list[1]}) + {new_list[2]} = {(new_list[0] * new_list[1]) + new_list[2]}')"
   ]
  },
  {
   "cell_type": "code",
   "execution_count": 18,
   "id": "15f7e53e-1831-4c9f-bec2-c224dc313281",
   "metadata": {},
   "outputs": [
    {
     "name": "stdout",
     "output_type": "stream",
     "text": [
      "1 + 2\n",
      "\n",
      "\n",
      "Hi\n",
      "\n",
      "\n",
      "My name is\n",
      "\n",
      "\n",
      "Blah blah blah\n",
      "\n"
     ]
    }
   ],
   "source": [
    "with open(\"Downloads/random.txt\", \"r\", encoding = \"utf-8\") as f:\n",
    "    for line in f:\n",
    "        print(line + \"\\n\")"
   ]
  },
  {
   "cell_type": "code",
   "execution_count": null,
   "id": "c9ea3823-cb73-487e-aabd-2ed8e9089100",
   "metadata": {},
   "outputs": [],
   "source": []
  }
 ],
 "metadata": {
  "kernelspec": {
   "display_name": "Python 3 (ipykernel)",
   "language": "python",
   "name": "python3"
  },
  "language_info": {
   "codemirror_mode": {
    "name": "ipython",
    "version": 3
   },
   "file_extension": ".py",
   "mimetype": "text/x-python",
   "name": "python",
   "nbconvert_exporter": "python",
   "pygments_lexer": "ipython3",
   "version": "3.10.2"
  }
 },
 "nbformat": 4,
 "nbformat_minor": 5
}
