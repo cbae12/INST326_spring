{
 "cells": [
  {
   "cell_type": "markdown",
   "id": "5e0b2309-9b7c-4272-aa5a-4e21b8cfaf19",
   "metadata": {},
   "source": [
    "# Sequence Unpacking\n",
    "Rather than having one variable name on left side to call/be defined by right side info, **Sequence Unpacking** contains a tuple on the left side to allow multiple variables defined/called at the same time. However, this only works for the sequence that is returning in the same tuple format."
   ]
  },
  {
   "cell_type": "code",
   "execution_count": 43,
   "id": "8c192975-736c-4dac-bad9-773775aefc92",
   "metadata": {},
   "outputs": [
    {
     "name": "stdout",
     "output_type": "stream",
     "text": [
      "I had Turkey Sandwich in the morning, Fruits for afternoon snacks, and finally, just Water for night times.\n"
     ]
    }
   ],
   "source": [
    "def meals_eaten(food1, food2, food3):\n",
    "    breakfast = food1\n",
    "    lunch = food2\n",
    "    dinner = food3\n",
    "    return breakfast, lunch, dinner\n",
    "\n",
    "breakfast1, lunch1, dinner1 = meals_eaten(\"Turkey Sandwich\", \"Fruits\", \"Water\")\n",
    "print(f\"I had {breakfast1} in the morning, {lunch1} for afternoon snacks, and finally, just {dinner1} for night times.\")"
   ]
  },
  {
   "cell_type": "code",
   "execution_count": 44,
   "id": "51ac1326-8d48-4451-9b58-3200e88afd4d",
   "metadata": {
    "tags": []
   },
   "outputs": [
    {
     "name": "stdout",
     "output_type": "stream",
     "text": [
      "Foods in the dictionary are {'Korean': 'Bulgogi', 'Italian': 'Pizza', 'Japan': 'Udon'}.\n"
     ]
    }
   ],
   "source": [
    "word_list = dict()\n",
    "word_list[\"Korean\"] = \"Bulgogi\"\n",
    "word_list[\"Italian\"] = \"Pizza\"\n",
    "word_list[\"Japan\"] = \"Udon\"\n",
    "print(f'Foods in the dictionary are {word_list}.')\n",
    "    "
   ]
  },
  {
   "cell_type": "code",
   "execution_count": 45,
   "id": "dcc1e043-fbaa-4560-b4ea-91c66f101f57",
   "metadata": {},
   "outputs": [
    {
     "name": "stdout",
     "output_type": "stream",
     "text": [
      "George Washington was the 1st president.\n",
      "Thomas Jefferson was another president.\n",
      "James data has changed.\n"
     ]
    }
   ],
   "source": [
    "presidents = {\"George\": \"Washington\" , \"Thomas\": \"Jefferson\" , \"James\": \"Madison\"}\n",
    "presidents[\"James\"] = \"Clark\"\n",
    "for p_name in presidents:\n",
    "    if p_name == \"George\":\n",
    "        print(\"George Washington was the 1st president.\")\n",
    "    if p_name == \"James\":\n",
    "        print(\"James data has changed.\")\n",
    "    if p_name == \"Thomas\":\n",
    "        print(\"Thomas Jefferson was another president.\")"
   ]
  },
  {
   "cell_type": "markdown",
   "id": "57bf452f-0160-424a-aa77-cb403e59c923",
   "metadata": {},
   "source": [
    "# Union\n",
    "Given sets A and B, union set refers to a set that includes datasets from both sets while overlapped datas are only included once. You can invoke this set in a method as **union()**, in an operator as **|**, and in-place method to change values contained in that union through **update()**."
   ]
  },
  {
   "cell_type": "code",
   "execution_count": 46,
   "id": "d65b4bcc-34f0-4d62-9515-6c82097acdd7",
   "metadata": {},
   "outputs": [
    {
     "name": "stdout",
     "output_type": "stream",
     "text": [
      "I eat these food: {'Kimchi', 'Sandwich', 'Bibimbap', 'Bulgogi'}.\n"
     ]
    }
   ],
   "source": [
    "korean_food = [\"Kimchi\", \"Bibimbap\", \"Bulgogi\"]\n",
    "food_I_eat = [\"Bulgogi\", \"Kimchi\", \"Sandwich\"]\n",
    "\n",
    "food_list = set(korean_food) | set(food_I_eat)\n",
    "print(f'I eat these food: {food_list}.')"
   ]
  }
 ],
 "metadata": {
  "kernelspec": {
   "display_name": "Python 3 (ipykernel)",
   "language": "python",
   "name": "python3"
  },
  "language_info": {
   "codemirror_mode": {
    "name": "ipython",
    "version": 3
   },
   "file_extension": ".py",
   "mimetype": "text/x-python",
   "name": "python",
   "nbconvert_exporter": "python",
   "pygments_lexer": "ipython3",
   "version": "3.10.2"
  }
 },
 "nbformat": 4,
 "nbformat_minor": 5
}
