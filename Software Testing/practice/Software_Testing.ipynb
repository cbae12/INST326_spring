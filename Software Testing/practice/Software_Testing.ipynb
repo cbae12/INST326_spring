{
 "cells": [
  {
   "cell_type": "markdown",
   "id": "079fee8b-562a-4d90-91b7-e20b63ea5e9f",
   "metadata": {},
   "source": [
    "# Assert Statements\n",
    "An **assert** statement allows Python to verify the validity of the expression by continueing for **True** or truthy value, else, returning **AssertionError**."
   ]
  },
  {
   "cell_type": "code",
   "execution_count": 5,
   "id": "77b5b865-33c7-43ef-8954-cb6fb445ae54",
   "metadata": {},
   "outputs": [
    {
     "ename": "AssertionError",
     "evalue": "",
     "output_type": "error",
     "traceback": [
      "\u001b[1;31m---------------------------------------------------------------------------\u001b[0m",
      "\u001b[1;31mAssertionError\u001b[0m                            Traceback (most recent call last)",
      "Input \u001b[1;32mIn [5]\u001b[0m, in \u001b[0;36m<module>\u001b[1;34m\u001b[0m\n\u001b[0;32m      4\u001b[0m \u001b[38;5;28;01massert\u001b[39;00m multiply(\u001b[38;5;241m4\u001b[39m) \u001b[38;5;241m==\u001b[39m \u001b[38;5;241m12\u001b[39m\n\u001b[0;32m      5\u001b[0m \u001b[38;5;28;01massert\u001b[39;00m multiply(\u001b[38;5;241m3\u001b[39m) \u001b[38;5;241m==\u001b[39m \u001b[38;5;241m9\u001b[39m\n\u001b[1;32m----> 6\u001b[0m \u001b[38;5;28;01massert\u001b[39;00m multiply(\u001b[38;5;241m2\u001b[39m) \u001b[38;5;241m==\u001b[39m \u001b[38;5;241m1\u001b[39m\n\u001b[0;32m      7\u001b[0m \u001b[38;5;28;01massert\u001b[39;00m multiply(\u001b[38;5;241m0\u001b[39m) \u001b[38;5;241m==\u001b[39m \u001b[38;5;241m0\u001b[39m\n",
      "\u001b[1;31mAssertionError\u001b[0m: "
     ]
    }
   ],
   "source": [
    "def multiply(given):\n",
    "    return given * 3\n",
    "\n",
    "assert multiply(4) == 12\n",
    "assert multiply(3) == 9\n",
    "assert multiply(2) == 1\n",
    "assert multiply(0) == 0"
   ]
  },
  {
   "cell_type": "markdown",
   "id": "d908b398-70c1-4c3b-ad27-bb4cd15cbb28",
   "metadata": {},
   "source": [
    "# Testing Floating-Point values\n",
    "Since **floats** can be imprecise, we look for **\"close enough\"** values by testing numbers very close after taking absolute value of the approximation, using **isclose(float, #)**."
   ]
  },
  {
   "cell_type": "code",
   "execution_count": 6,
   "id": "be647bde-b5ea-46ff-8e7b-24febf0d3a29",
   "metadata": {},
   "outputs": [
    {
     "ename": "AssertionError",
     "evalue": "",
     "output_type": "error",
     "traceback": [
      "\u001b[1;31m---------------------------------------------------------------------------\u001b[0m",
      "\u001b[1;31mAssertionError\u001b[0m                            Traceback (most recent call last)",
      "Input \u001b[1;32mIn [6]\u001b[0m, in \u001b[0;36m<module>\u001b[1;34m\u001b[0m\n\u001b[0;32m      4\u001b[0m     \u001b[38;5;28;01mreturn\u001b[39;00m given\u001b[38;5;241m/\u001b[39m\u001b[38;5;241m7\u001b[39m\n\u001b[0;32m      6\u001b[0m \u001b[38;5;28;01massert\u001b[39;00m isclose(div(\u001b[38;5;241m3\u001b[39m), \u001b[38;5;241m0.42857142857\u001b[39m)\n\u001b[1;32m----> 7\u001b[0m \u001b[38;5;28;01massert\u001b[39;00m isclose(div(\u001b[38;5;241m1\u001b[39m), \u001b[38;5;241m1.14285714285\u001b[39m)\n",
      "\u001b[1;31mAssertionError\u001b[0m: "
     ]
    }
   ],
   "source": [
    "from math import isclose\n",
    "\n",
    "def div(given):\n",
    "    return given/7\n",
    "\n",
    "assert isclose(div(3), 0.42857142857)\n",
    "assert isclose(div(1), 1.14285714285)"
   ]
  },
  {
   "cell_type": "markdown",
   "id": "69d18be5-ac6d-422b-a388-ad147e9be763",
   "metadata": {},
   "source": [
    "# Import Statements\n",
    "Importing statements can allow us to access codes from different module by creating **namespace** object that is imported from other module to the current module."
   ]
  },
  {
   "cell_type": "code",
   "execution_count": 7,
   "id": "ead29031-1c23-4c07-a7cf-b1193c4422f7",
   "metadata": {},
   "outputs": [],
   "source": [
    "from math import isclose\n",
    "\n",
    "def div(given):\n",
    "    return given/3\n",
    "\n",
    "assert isclose(div(3), 1)\n",
    "assert isclose(div(1), 0.3333333333333)"
   ]
  }
 ],
 "metadata": {
  "kernelspec": {
   "display_name": "Python 3 (ipykernel)",
   "language": "python",
   "name": "python3"
  },
  "language_info": {
   "codemirror_mode": {
    "name": "ipython",
    "version": 3
   },
   "file_extension": ".py",
   "mimetype": "text/x-python",
   "name": "python",
   "nbconvert_exporter": "python",
   "pygments_lexer": "ipython3",
   "version": "3.10.2"
  }
 },
 "nbformat": 4,
 "nbformat_minor": 5
}
