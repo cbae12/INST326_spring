{
 "cells": [
  {
   "cell_type": "markdown",
   "id": "b2ef7f07-1e77-4fd5-a316-0720fbb4fd05",
   "metadata": {},
   "source": [
    "# Conditional Expressions\n",
    "Using **if-else** statements, you can make expressions that first tests whether a **condition** is true or not, then statements that follow for truth case under **if conditional** and for false case under **else conditional**."
   ]
  },
  {
   "cell_type": "code",
   "execution_count": 2,
   "id": "9a53ed76-a058-401b-b24a-caf098c85514",
   "metadata": {},
   "outputs": [
    {
     "name": "stdout",
     "output_type": "stream",
     "text": [
      "This number is positive.\n"
     ]
    }
   ],
   "source": [
    "a = 3\n",
    "if a > 0:\n",
    "    print(\"This number is positive.\")\n",
    "elif a == 0:\n",
    "    print(\"This number is 0.\")\n",
    "else:\n",
    "    print(\"This number is negative.\")"
   ]
  },
  {
   "cell_type": "markdown",
   "id": "081a5b25-4d50-4a8f-a216-b3fac871a9c8",
   "metadata": {},
   "source": [
    "# Passing Keyword Arguments to functions\n",
    "**Keyword Arguments** give function definitions or variable definitions by providing a keyword, an equal sign, and a value/expression."
   ]
  },
  {
   "cell_type": "code",
   "execution_count": 10,
   "id": "2afad22b-5e0d-43eb-be98-ca9e7dc0bc7d",
   "metadata": {},
   "outputs": [
    {
     "name": "stdout",
     "output_type": "stream",
     "text": [
      "Hi!\n",
      "--\n"
     ]
    }
   ],
   "source": [
    "print(\"Hi!\", end=\"\\n--\\n\")"
   ]
  },
  {
   "cell_type": "markdown",
   "id": "af028e28-7097-4e29-9b07-84d233451329",
   "metadata": {},
   "source": [
    "# Defining functions with optional parameters\n",
    "Functions can be given parameters as optional by having variables that receive their values whenever the function is called."
   ]
  },
  {
   "cell_type": "code",
   "execution_count": 15,
   "id": "5954f1fc-55a8-472a-870b-ac88ec80b8a8",
   "metadata": {},
   "outputs": [
    {
     "name": "stdout",
     "output_type": "stream",
     "text": [
      "This formula is true\n"
     ]
    }
   ],
   "source": [
    "def formula(total, var1, var2):\n",
    "    if total == (var1 + var2):\n",
    "        return 1\n",
    "    else:\n",
    "        return 2\n",
    "\n",
    "if formula(3, 1, 2) == 1:\n",
    "    print(\"This formula is true\")\n",
    "else:\n",
    "    print(\"This formula is wrong\")"
   ]
  }
 ],
 "metadata": {
  "kernelspec": {
   "display_name": "Python 3 (ipykernel)",
   "language": "python",
   "name": "python3"
  },
  "language_info": {
   "codemirror_mode": {
    "name": "ipython",
    "version": 3
   },
   "file_extension": ".py",
   "mimetype": "text/x-python",
   "name": "python",
   "nbconvert_exporter": "python",
   "pygments_lexer": "ipython3",
   "version": "3.10.2"
  }
 },
 "nbformat": 4,
 "nbformat_minor": 5
}
