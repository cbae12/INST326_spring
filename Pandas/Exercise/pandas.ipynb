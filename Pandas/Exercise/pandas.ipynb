{
 "cells": [
  {
   "cell_type": "code",
   "execution_count": 50,
   "id": "9cf036d0-cf51-4020-8992-495538b9fe96",
   "metadata": {},
   "outputs": [],
   "source": [
    "import pandas as pd\n",
    "\n",
    "cols = [\"Athlete\", \"Country\", \"Result\", \"Year\"]\n",
    "d1 = pd.read_csv(\"mens1500_2006.csv\")\n",
    "dd1 = d1.fillna(0)\n",
    "df1 = dd1[cols]\n",
    "d2 = pd.read_csv(\"mens1500_2010.csv\")\n",
    "df2 = d2[cols]\n",
    "d3 = pd.read_csv(\"mens1500_2014.csv\")\n",
    "dd3 = d3.fillna(0)\n",
    "df3 = dd3[cols]\n",
    "d4 = pd.read_csv(\"mens1500_2018.csv\")\n",
    "dd4 = d4.fillna(0)\n",
    "df4 = dd4[cols]\n",
    "d5 = pd.read_csv(\"mens1500_2022.csv\")\n",
    "df5 = d5[cols]\n",
    "df_results = pd.concat([df1, df2, df3, df4, df5]).reset_index(drop=True)\n",
    "d6 = pd.read_csv(\"speed_skaters.csv\")\n",
    "df_athlete = d6.merge(df_results, left_on = \"Name\", right_on = \"Athlete\")\n",
    "df_stat = df_athlete.drop(\"Athlete\", axis=1)\n",
    "df_data1 = df_stat[df_stat[\"Birth year\"]>2000]\n",
    "df_data2 = df_stat[(df_stat[\"Height\"] > 1.85) & (df_stat[\"Country\"] == \"CAN\")]"
   ]
  },
  {
   "cell_type": "markdown",
   "id": "11e98c89-4469-49dc-85eb-df443a9cffc3",
   "metadata": {},
   "source": [
    "# Pandas Data Selection\n",
    "**df_data1**: Displays a list of people who are born after 2000.\n",
    "\n",
    "**df_data2**: Displays a list of people who has a height greater than 1.85 and from a country CAN."
   ]
  },
  {
   "cell_type": "code",
   "execution_count": null,
   "id": "e301ef62-f5f2-491a-a720-0ce7427f0c48",
   "metadata": {},
   "outputs": [],
   "source": []
  }
 ],
 "metadata": {
  "kernelspec": {
   "display_name": "Python 3 (ipykernel)",
   "language": "python",
   "name": "python3"
  },
  "language_info": {
   "codemirror_mode": {
    "name": "ipython",
    "version": 3
   },
   "file_extension": ".py",
   "mimetype": "text/x-python",
   "name": "python",
   "nbconvert_exporter": "python",
   "pygments_lexer": "ipython3",
   "version": "3.10.2"
  }
 },
 "nbformat": 4,
 "nbformat_minor": 5
}
